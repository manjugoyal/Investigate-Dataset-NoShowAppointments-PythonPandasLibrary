{
 "cells": [
  {
   "cell_type": "markdown",
   "metadata": {},
   "source": [
    "\n",
    "# Project: Investigate a Dataset on No-show appointments\n",
    "\n",
    "## Table of Contents\n",
    "<ul>\n",
    "<li><a href=\"#intro\">Introduction</a></li>\n",
    "<li><a href=\"#wrangling\">Data Wrangling</a></li>\n",
    "<li><a href=\"#eda\">Exploratory Data Analysis</a></li>\n",
    "<li><a href=\"#conclusions\">Conclusions</a></li>\n",
    "</ul>"
   ]
  },
  {
   "cell_type": "markdown",
   "metadata": {},
   "source": [
    "<a id='intro'></a>\n",
    "## Introduction\n",
    "\n",
    ">  This project explores a dataset on No-show appointments. The datset has information from 100k medical appointments in Brazil and is focused on the question of whether or not patients show up for their appointment. A number of characteristics about the patient are included in each of the rows of the datset as described below:\n",
    "‘ScheduledDay’ tells us on what day the patient set up their appointment.\n",
    "‘Neighborhood’ indicates the location of the hospital.\n",
    "‘Scholarship’ indicates whether or not the patient is enrolled in Brasilian welfare program Bolsa Família.\n",
    "'N-show' last column: it says ‘No’ if the patient showed up to their appointment, and ‘Yes’ if they did not show up.\n",
    "What factors are important for us to know in order to predict if a patient will show up for their scheduled appointment? This is the essential question we will try to understand in this project\n",
    "\n",
    "At the end of this section, I describe the questions that I plan on exploring over the course of the report. \n"
   ]
  },
  {
   "cell_type": "code",
   "execution_count": 2,
   "metadata": {},
   "outputs": [
    {
     "name": "stderr",
     "output_type": "stream",
     "text": [
      "C:\\Users\\Manju Goyal\\Anaconda3\\envs\\dataanalysis\\lib\\site-packages\\statsmodels\\compat\\pandas.py:56: FutureWarning: The pandas.core.datetools module is deprecated and will be removed in a future version. Please use the pandas.tseries module instead.\n",
      "  from pandas.core import datetools\n"
     ]
    }
   ],
   "source": [
    "# Importing all the packages that I intend to use here\n",
    "import matplotlib.pyplot as plt\n",
    "import pandas as pd\n",
    "import numpy as np\n",
    "import statsmodels.api as sm\n",
    "import seaborn as sns\n",
    "# magicword for all diagrams to be drawn inline\n",
    "% matplotlib inline"
   ]
  },
  {
   "cell_type": "markdown",
   "metadata": {},
   "source": [
    "### Questions I want to ask"
   ]
  },
  {
   "cell_type": "markdown",
   "metadata": {},
   "source": [
    "1. Is a particular gender associated with no-show?\n",
    "2. Were the people reminded of their appointment and did they show up more after the reminder?\n",
    "3. How does the date the appointment was scheduled matter?"
   ]
  },
  {
   "cell_type": "markdown",
   "metadata": {},
   "source": [
    "<a id='wrangling'></a>\n",
    "## Data Wrangling\n",
    "\n",
    "> In this section of the report, I will load in the data, check for cleanliness, and then trim and clean your dataset for analysis. \n",
    "\n",
    "### General Properties"
   ]
  },
  {
   "cell_type": "code",
   "execution_count": 3,
   "metadata": {},
   "outputs": [
    {
     "data": {
      "text/html": [
       "<div>\n",
       "<style scoped>\n",
       "    .dataframe tbody tr th:only-of-type {\n",
       "        vertical-align: middle;\n",
       "    }\n",
       "\n",
       "    .dataframe tbody tr th {\n",
       "        vertical-align: top;\n",
       "    }\n",
       "\n",
       "    .dataframe thead th {\n",
       "        text-align: right;\n",
       "    }\n",
       "</style>\n",
       "<table border=\"1\" class=\"dataframe\">\n",
       "  <thead>\n",
       "    <tr style=\"text-align: right;\">\n",
       "      <th></th>\n",
       "      <th>PatientId</th>\n",
       "      <th>AppointmentID</th>\n",
       "      <th>Gender</th>\n",
       "      <th>ScheduledDay</th>\n",
       "      <th>AppointmentDay</th>\n",
       "      <th>Age</th>\n",
       "      <th>Neighbourhood</th>\n",
       "      <th>Scholarship</th>\n",
       "      <th>Hipertension</th>\n",
       "      <th>Diabetes</th>\n",
       "      <th>Alcoholism</th>\n",
       "      <th>Handcap</th>\n",
       "      <th>SMS_received</th>\n",
       "      <th>No-show</th>\n",
       "    </tr>\n",
       "  </thead>\n",
       "  <tbody>\n",
       "    <tr>\n",
       "      <th>0</th>\n",
       "      <td>2.987250e+13</td>\n",
       "      <td>5642903</td>\n",
       "      <td>F</td>\n",
       "      <td>2016-04-29T18:38:08Z</td>\n",
       "      <td>2016-04-29T00:00:00Z</td>\n",
       "      <td>62</td>\n",
       "      <td>JARDIM DA PENHA</td>\n",
       "      <td>0</td>\n",
       "      <td>1</td>\n",
       "      <td>0</td>\n",
       "      <td>0</td>\n",
       "      <td>0</td>\n",
       "      <td>0</td>\n",
       "      <td>No</td>\n",
       "    </tr>\n",
       "    <tr>\n",
       "      <th>1</th>\n",
       "      <td>5.589978e+14</td>\n",
       "      <td>5642503</td>\n",
       "      <td>M</td>\n",
       "      <td>2016-04-29T16:08:27Z</td>\n",
       "      <td>2016-04-29T00:00:00Z</td>\n",
       "      <td>56</td>\n",
       "      <td>JARDIM DA PENHA</td>\n",
       "      <td>0</td>\n",
       "      <td>0</td>\n",
       "      <td>0</td>\n",
       "      <td>0</td>\n",
       "      <td>0</td>\n",
       "      <td>0</td>\n",
       "      <td>No</td>\n",
       "    </tr>\n",
       "  </tbody>\n",
       "</table>\n",
       "</div>"
      ],
      "text/plain": [
       "      PatientId  AppointmentID Gender          ScheduledDay  \\\n",
       "0  2.987250e+13        5642903      F  2016-04-29T18:38:08Z   \n",
       "1  5.589978e+14        5642503      M  2016-04-29T16:08:27Z   \n",
       "\n",
       "         AppointmentDay  Age    Neighbourhood  Scholarship  Hipertension  \\\n",
       "0  2016-04-29T00:00:00Z   62  JARDIM DA PENHA            0             1   \n",
       "1  2016-04-29T00:00:00Z   56  JARDIM DA PENHA            0             0   \n",
       "\n",
       "   Diabetes  Alcoholism  Handcap  SMS_received No-show  \n",
       "0         0           0        0             0      No  \n",
       "1         0           0        0             0      No  "
      ]
     },
     "execution_count": 3,
     "metadata": {},
     "output_type": "execute_result"
    }
   ],
   "source": [
    "# Load your data and print out a few lines. Perform operations to inspect data\n",
    "#   types and look for instances of missing or possibly errant data.\n",
    "df = pd.read_csv('noshowappointments.csv')\n",
    "df.head(2)"
   ]
  },
  {
   "cell_type": "markdown",
   "metadata": {},
   "source": [
    "Now that we have seen the dataset, now let us try to understand datatype, number of unique values in the dataset to understand what type of cleanliness need to be done on the data"
   ]
  },
  {
   "cell_type": "code",
   "execution_count": 4,
   "metadata": {},
   "outputs": [
    {
     "name": "stdout",
     "output_type": "stream",
     "text": [
      "<class 'pandas.core.frame.DataFrame'>\n",
      "RangeIndex: 110527 entries, 0 to 110526\n",
      "Data columns (total 14 columns):\n",
      "PatientId         110527 non-null float64\n",
      "AppointmentID     110527 non-null int64\n",
      "Gender            110527 non-null object\n",
      "ScheduledDay      110527 non-null object\n",
      "AppointmentDay    110527 non-null object\n",
      "Age               110527 non-null int64\n",
      "Neighbourhood     110527 non-null object\n",
      "Scholarship       110527 non-null int64\n",
      "Hipertension      110527 non-null int64\n",
      "Diabetes          110527 non-null int64\n",
      "Alcoholism        110527 non-null int64\n",
      "Handcap           110527 non-null int64\n",
      "SMS_received      110527 non-null int64\n",
      "No-show           110527 non-null object\n",
      "dtypes: float64(1), int64(8), object(5)\n",
      "memory usage: 11.8+ MB\n"
     ]
    }
   ],
   "source": [
    "df.info()"
   ]
  },
  {
   "cell_type": "markdown",
   "metadata": {},
   "source": [
    "There are no null values. So we don't need to clean that up. Patient ID is a float type so we need to make it integer. Scheduled Day and Appointment Day are object types so they need to be changed to date type. Let us first explore to see all data points are unique."
   ]
  },
  {
   "cell_type": "code",
   "execution_count": 6,
   "metadata": {},
   "outputs": [
    {
     "name": "stdout",
     "output_type": "stream",
     "text": [
      "Index(['PatientId', 'AppointmentID', 'Gender', 'ScheduledDay',\n",
      "       'AppointmentDay', 'Age', 'Neighbourhood', 'Scholarship', 'Hipertension',\n",
      "       'Diabetes', 'Alcoholism', 'Handcap', 'SMS_received', 'No-show'],\n",
      "      dtype='object')\n",
      "['No' 'Yes']\n",
      "[0 1]\n",
      "[0 1 2 3 4]\n"
     ]
    },
    {
     "data": {
      "text/plain": [
       "PatientId          62299\n",
       "AppointmentID     110527\n",
       "Gender                 2\n",
       "ScheduledDay      103549\n",
       "AppointmentDay        27\n",
       "Age                  104\n",
       "Neighbourhood         81\n",
       "Scholarship            2\n",
       "Hipertension           2\n",
       "Diabetes               2\n",
       "Alcoholism             2\n",
       "Handcap                5\n",
       "SMS_received           2\n",
       "No-show                2\n",
       "dtype: int64"
      ]
     },
     "execution_count": 6,
     "metadata": {},
     "output_type": "execute_result"
    }
   ],
   "source": [
    "print(df.columns)\n",
    "print(df['No-show'].unique())\n",
    "print(df['SMS_received'].unique())\n",
    "print(df['Handcap'].unique())\n",
    "df.nunique()"
   ]
  },
  {
   "cell_type": "markdown",
   "metadata": {},
   "source": [
    "> SO we find what unique values in each of the dataframe columns are. Lets proceed to cleaning the data keeping in mind the kind of data we need for the analysis. \n",
    "\n",
    "### Data Cleaning\n",
    ">  Since the datatype in previos section showed that the patient ID is not integer anf also that Scheduled Day and Appointment day are dates and are currently as object type, let us first cure this data\n"
   ]
  },
  {
   "cell_type": "code",
   "execution_count": 7,
   "metadata": {},
   "outputs": [],
   "source": [
    "df.PatientId = df.PatientId.astype(int)\n",
    "df['ScheduledDay'] = pd.to_datetime(df['ScheduledDay'])\n",
    "df['AppointmentDay'] = pd.to_datetime(df['AppointmentDay'])"
   ]
  },
  {
   "cell_type": "markdown",
   "metadata": {},
   "source": [
    "Now that data is in the right data type, let us find the time sice apptt and add that as an additional column in our dataframe"
   ]
  },
  {
   "cell_type": "code",
   "execution_count": 9,
   "metadata": {},
   "outputs": [
    {
     "name": "stdout",
     "output_type": "stream",
     "text": [
      "    PatientId  AppointmentID Gender        ScheduledDay AppointmentDay  Age  \\\n",
      "0 -2147483648        5642903      F 2016-04-29 18:38:08     2016-04-29   62   \n",
      "1 -2147483648        5642503      M 2016-04-29 16:08:27     2016-04-29   56   \n",
      "2 -2147483648        5642549      F 2016-04-29 16:19:04     2016-04-29   62   \n",
      "3 -2147483648        5642828      F 2016-04-29 17:29:31     2016-04-29    8   \n",
      "4 -2147483648        5642494      F 2016-04-29 16:07:23     2016-04-29   56   \n",
      "\n",
      "       Neighbourhood  Scholarship  Hipertension  Diabetes  Alcoholism  \\\n",
      "0    JARDIM DA PENHA            0             1         0           0   \n",
      "1    JARDIM DA PENHA            0             0         0           0   \n",
      "2      MATA DA PRAIA            0             0         0           0   \n",
      "3  PONTAL DE CAMBURI            0             0         0           0   \n",
      "4    JARDIM DA PENHA            0             1         1           0   \n",
      "\n",
      "   Handcap  SMS_received No-show    TimeSinceApptt  \n",
      "0        0             0      No -1 days +05:21:52  \n",
      "1        0             0      No -1 days +07:51:33  \n",
      "2        0             0      No -1 days +07:40:56  \n",
      "3        0             0      No -1 days +06:30:29  \n",
      "4        0             0      No -1 days +07:52:37  \n",
      "<class 'pandas.core.frame.DataFrame'>\n",
      "RangeIndex: 110527 entries, 0 to 110526\n",
      "Data columns (total 15 columns):\n",
      "PatientId         110527 non-null int32\n",
      "AppointmentID     110527 non-null int64\n",
      "Gender            110527 non-null object\n",
      "ScheduledDay      110527 non-null datetime64[ns]\n",
      "AppointmentDay    110527 non-null datetime64[ns]\n",
      "Age               110527 non-null int64\n",
      "Neighbourhood     110527 non-null object\n",
      "Scholarship       110527 non-null int64\n",
      "Hipertension      110527 non-null int64\n",
      "Diabetes          110527 non-null int64\n",
      "Alcoholism        110527 non-null int64\n",
      "Handcap           110527 non-null int64\n",
      "SMS_received      110527 non-null int64\n",
      "No-show           110527 non-null object\n",
      "TimeSinceApptt    110527 non-null timedelta64[ns]\n",
      "dtypes: datetime64[ns](2), int32(1), int64(8), object(3), timedelta64[ns](1)\n",
      "memory usage: 12.2+ MB\n"
     ]
    }
   ],
   "source": [
    "df['TimeSinceApptt'] = df['AppointmentDay']-df['ScheduledDay']\n",
    "print(df.head(5))\n",
    "df.info()"
   ]
  },
  {
   "cell_type": "markdown",
   "metadata": {},
   "source": [
    "The column TimeSinceApptt is also showing negative time. The reason this is happening is because the date formats in the Scheduled and appointment day are not the same. So now, let us first change the format of scheduled day so that the formats are same and then again find time since appoitment for each id."
   ]
  },
  {
   "cell_type": "code",
   "execution_count": 10,
   "metadata": {
    "scrolled": true
   },
   "outputs": [
    {
     "data": {
      "text/html": [
       "<div>\n",
       "<style scoped>\n",
       "    .dataframe tbody tr th:only-of-type {\n",
       "        vertical-align: middle;\n",
       "    }\n",
       "\n",
       "    .dataframe tbody tr th {\n",
       "        vertical-align: top;\n",
       "    }\n",
       "\n",
       "    .dataframe thead th {\n",
       "        text-align: right;\n",
       "    }\n",
       "</style>\n",
       "<table border=\"1\" class=\"dataframe\">\n",
       "  <thead>\n",
       "    <tr style=\"text-align: right;\">\n",
       "      <th></th>\n",
       "      <th>PatientId</th>\n",
       "      <th>AppointmentID</th>\n",
       "      <th>Gender</th>\n",
       "      <th>ScheduledDay</th>\n",
       "      <th>AppointmentDay</th>\n",
       "      <th>Age</th>\n",
       "      <th>Neighbourhood</th>\n",
       "      <th>Scholarship</th>\n",
       "      <th>Hipertension</th>\n",
       "      <th>Diabetes</th>\n",
       "      <th>Alcoholism</th>\n",
       "      <th>Handcap</th>\n",
       "      <th>SMS_received</th>\n",
       "      <th>No-show</th>\n",
       "      <th>TimeSinceApptt</th>\n",
       "    </tr>\n",
       "  </thead>\n",
       "  <tbody>\n",
       "    <tr>\n",
       "      <th>0</th>\n",
       "      <td>-2147483648</td>\n",
       "      <td>5642903</td>\n",
       "      <td>F</td>\n",
       "      <td>2016-04-29</td>\n",
       "      <td>2016-04-29</td>\n",
       "      <td>62</td>\n",
       "      <td>JARDIM DA PENHA</td>\n",
       "      <td>0</td>\n",
       "      <td>1</td>\n",
       "      <td>0</td>\n",
       "      <td>0</td>\n",
       "      <td>0</td>\n",
       "      <td>0</td>\n",
       "      <td>No</td>\n",
       "      <td>0 days</td>\n",
       "    </tr>\n",
       "    <tr>\n",
       "      <th>1</th>\n",
       "      <td>-2147483648</td>\n",
       "      <td>5642503</td>\n",
       "      <td>M</td>\n",
       "      <td>2016-04-29</td>\n",
       "      <td>2016-04-29</td>\n",
       "      <td>56</td>\n",
       "      <td>JARDIM DA PENHA</td>\n",
       "      <td>0</td>\n",
       "      <td>0</td>\n",
       "      <td>0</td>\n",
       "      <td>0</td>\n",
       "      <td>0</td>\n",
       "      <td>0</td>\n",
       "      <td>No</td>\n",
       "      <td>0 days</td>\n",
       "    </tr>\n",
       "    <tr>\n",
       "      <th>2</th>\n",
       "      <td>-2147483648</td>\n",
       "      <td>5642549</td>\n",
       "      <td>F</td>\n",
       "      <td>2016-04-29</td>\n",
       "      <td>2016-04-29</td>\n",
       "      <td>62</td>\n",
       "      <td>MATA DA PRAIA</td>\n",
       "      <td>0</td>\n",
       "      <td>0</td>\n",
       "      <td>0</td>\n",
       "      <td>0</td>\n",
       "      <td>0</td>\n",
       "      <td>0</td>\n",
       "      <td>No</td>\n",
       "      <td>0 days</td>\n",
       "    </tr>\n",
       "    <tr>\n",
       "      <th>3</th>\n",
       "      <td>-2147483648</td>\n",
       "      <td>5642828</td>\n",
       "      <td>F</td>\n",
       "      <td>2016-04-29</td>\n",
       "      <td>2016-04-29</td>\n",
       "      <td>8</td>\n",
       "      <td>PONTAL DE CAMBURI</td>\n",
       "      <td>0</td>\n",
       "      <td>0</td>\n",
       "      <td>0</td>\n",
       "      <td>0</td>\n",
       "      <td>0</td>\n",
       "      <td>0</td>\n",
       "      <td>No</td>\n",
       "      <td>0 days</td>\n",
       "    </tr>\n",
       "    <tr>\n",
       "      <th>4</th>\n",
       "      <td>-2147483648</td>\n",
       "      <td>5642494</td>\n",
       "      <td>F</td>\n",
       "      <td>2016-04-29</td>\n",
       "      <td>2016-04-29</td>\n",
       "      <td>56</td>\n",
       "      <td>JARDIM DA PENHA</td>\n",
       "      <td>0</td>\n",
       "      <td>1</td>\n",
       "      <td>1</td>\n",
       "      <td>0</td>\n",
       "      <td>0</td>\n",
       "      <td>0</td>\n",
       "      <td>No</td>\n",
       "      <td>0 days</td>\n",
       "    </tr>\n",
       "  </tbody>\n",
       "</table>\n",
       "</div>"
      ],
      "text/plain": [
       "    PatientId  AppointmentID Gender ScheduledDay AppointmentDay  Age  \\\n",
       "0 -2147483648        5642903      F   2016-04-29     2016-04-29   62   \n",
       "1 -2147483648        5642503      M   2016-04-29     2016-04-29   56   \n",
       "2 -2147483648        5642549      F   2016-04-29     2016-04-29   62   \n",
       "3 -2147483648        5642828      F   2016-04-29     2016-04-29    8   \n",
       "4 -2147483648        5642494      F   2016-04-29     2016-04-29   56   \n",
       "\n",
       "       Neighbourhood  Scholarship  Hipertension  Diabetes  Alcoholism  \\\n",
       "0    JARDIM DA PENHA            0             1         0           0   \n",
       "1    JARDIM DA PENHA            0             0         0           0   \n",
       "2      MATA DA PRAIA            0             0         0           0   \n",
       "3  PONTAL DE CAMBURI            0             0         0           0   \n",
       "4    JARDIM DA PENHA            0             1         1           0   \n",
       "\n",
       "   Handcap  SMS_received No-show TimeSinceApptt  \n",
       "0        0             0      No         0 days  \n",
       "1        0             0      No         0 days  \n",
       "2        0             0      No         0 days  \n",
       "3        0             0      No         0 days  \n",
       "4        0             0      No         0 days  "
      ]
     },
     "execution_count": 10,
     "metadata": {},
     "output_type": "execute_result"
    }
   ],
   "source": [
    "import datetime\n",
    "# extract just the date and remove time associated in scheduled day\n",
    "df['ScheduledDay'] = df['ScheduledDay'].dt.date\n",
    "# change the format back to datetime\n",
    "df['ScheduledDay'] = pd.to_datetime(df['ScheduledDay'])\n",
    "df['TimeSinceApptt'] = df['AppointmentDay'] - df['ScheduledDay']\n",
    "df.head()"
   ]
  },
  {
   "cell_type": "code",
   "execution_count": null,
   "metadata": {},
   "outputs": [],
   "source": []
  },
  {
   "cell_type": "code",
   "execution_count": null,
   "metadata": {
    "collapsed": true
   },
   "outputs": [],
   "source": []
  },
  {
   "cell_type": "markdown",
   "metadata": {},
   "source": [
    "<a id='eda'></a>\n",
    "## Exploratory Data Analysis\n",
    "\n",
    "### Is a particular gender associated with more no-shows and what is the impact of age on no-shows?\n",
    "> Let us explore this here by first finding each of the no-shows by gender and then whether they received an SMS or not"
   ]
  },
  {
   "cell_type": "code",
   "execution_count": 11,
   "metadata": {},
   "outputs": [
    {
     "data": {
      "text/plain": [
       "Gender  No-show\n",
       "F       No         57246\n",
       "        Yes        14594\n",
       "M       No         30962\n",
       "        Yes         7725\n",
       "Name: No-show, dtype: int64"
      ]
     },
     "execution_count": 11,
     "metadata": {},
     "output_type": "execute_result"
    }
   ],
   "source": [
    "(df.groupby(['Gender'])['No-show']).value_counts()"
   ]
  },
  {
   "cell_type": "code",
   "execution_count": 12,
   "metadata": {},
   "outputs": [
    {
     "data": {
      "text/plain": [
       "Gender  SMS_received  No-show\n",
       "F       0             No         39764\n",
       "                      Yes         7874\n",
       "        1             No         17482\n",
       "                      Yes         6720\n",
       "M       0             No         22746\n",
       "                      Yes         4661\n",
       "        1             No          8216\n",
       "                      Yes         3064\n",
       "Name: No-show, dtype: int64"
      ]
     },
     "execution_count": 12,
     "metadata": {},
     "output_type": "execute_result"
    }
   ],
   "source": [
    "df.groupby(['Gender','SMS_received'])['No-show'].value_counts()"
   ]
  },
  {
   "cell_type": "markdown",
   "metadata": {},
   "source": [
    "After doing the value counts, let us now calculate proportion of people who show up at the appointments segregated by gender"
   ]
  },
  {
   "cell_type": "code",
   "execution_count": 13,
   "metadata": {},
   "outputs": [
    {
     "data": {
      "text/plain": [
       "0.19967947889471915"
      ]
     },
     "execution_count": 13,
     "metadata": {},
     "output_type": "execute_result"
    }
   ],
   "source": [
    "(df.query('Gender == \"M\"')['No-show'] == \"Yes\").mean()"
   ]
  },
  {
   "cell_type": "code",
   "execution_count": 14,
   "metadata": {},
   "outputs": [
    {
     "data": {
      "text/plain": [
       "0.20314587973273943"
      ]
     },
     "execution_count": 14,
     "metadata": {},
     "output_type": "execute_result"
    }
   ],
   "source": [
    "(df.query('Gender == \"F\"')['No-show'] == \"Yes\").mean()"
   ]
  },
  {
   "cell_type": "markdown",
   "metadata": {},
   "source": [
    "This implies gender alone does not seem to have any correlation with the probability of a person showing up at his/her appointments. Now let us see the proportion of people who showed up segregated by gender and if they received the SMS or not. By this we are seeing if remembering about appintment is affected by gender and technology together."
   ]
  },
  {
   "cell_type": "code",
   "execution_count": 15,
   "metadata": {},
   "outputs": [
    {
     "name": "stdout",
     "output_type": "stream",
     "text": [
      "0.271631205674\n"
     ]
    }
   ],
   "source": [
    "# proportion of people who are male and received SMS  and no show\n",
    "RecSMS_Male = (df.query('Gender == \"M\" & SMS_received == 1')['No-show'] == \"Yes\").mean()\n",
    "print(RecSMS_Male)"
   ]
  },
  {
   "cell_type": "code",
   "execution_count": 16,
   "metadata": {},
   "outputs": [
    {
     "name": "stdout",
     "output_type": "stream",
     "text": [
      "0.170066041522\n"
     ]
    }
   ],
   "source": [
    "# proportion of people who are male and did not received SMS  and no show\n",
    "NoRecSMS_Male = (df.query('Gender == \"M\" & SMS_received == 0')['No-show'] == \"Yes\").mean()\n",
    "print(NoRecSMS_Male)"
   ]
  },
  {
   "cell_type": "code",
   "execution_count": 17,
   "metadata": {},
   "outputs": [
    {
     "name": "stdout",
     "output_type": "stream",
     "text": [
      "0.277663003058\n"
     ]
    }
   ],
   "source": [
    "# proportion of people who are female and received SMS  and no show\n",
    "RecSMS_Female = (df.query('Gender == \"F\" & SMS_received == 1')['No-show'] == \"Yes\").mean()\n",
    "print(RecSMS_Female)"
   ]
  },
  {
   "cell_type": "code",
   "execution_count": 18,
   "metadata": {},
   "outputs": [
    {
     "name": "stdout",
     "output_type": "stream",
     "text": [
      "0.170066041522\n"
     ]
    }
   ],
   "source": [
    "# proportion of people who are female and received SMS  and no show\n",
    "NoRecSMS_Female = (df.query('Gender == \"F\" & SMS_received == 0')['No-show'] == \"Yes\").mean()\n",
    "print(NoRecSMS_Male)"
   ]
  },
  {
   "cell_type": "markdown",
   "metadata": {},
   "source": [
    "> This is an interesting result. This kind of implies that whether male or female, having received an SMS did not seem to improve the no-show proportion but rather deteriorates it. Let us try to make a bar chart out of this data segregated by gender and having received SMS or not."
   ]
  },
  {
   "cell_type": "code",
   "execution_count": 19,
   "metadata": {},
   "outputs": [
    {
     "data": {
      "image/png": "[encoded data removed]",
      "text/plain": [
       "<matplotlib.figure.Figure at 0x2c1a9f5da90>"
      ]
     },
     "metadata": {},
     "output_type": "display_data"
    }
   ],
   "source": [
    "N = 2\n",
    "# array for people who did receive SMS for both the genders\n",
    "RecSMS = (RecSMS_Male, RecSMS_Female)\n",
    "\n",
    "ind = np.arange(N)  # the x locations for the groups\n",
    "width = 0.25      # the width of the bars\n",
    "\n",
    "fig, ax = plt.subplots()\n",
    "rects1 = ax.bar(ind, RecSMS, width, color='r')\n",
    "\n",
    "# array for people who did not receive SMS for both the genders\n",
    "NoRecSMS = (NoRecSMS_Male, NoRecSMS_Female)\n",
    "rects2 = ax.bar(ind + width, NoRecSMS, width, color='y')\n",
    "\n",
    "# add some text for labels, title and axes ticks\n",
    "ax.set_ylabel('No-show proportion')\n",
    "ax.set_title('No-show proportion by Gender and having received SMS or not')\n",
    "ax.set_xticks(ind + width / 2)\n",
    "ax.set_xticklabels(('Male', 'Female'))\n",
    "plt.ylim(0,0.45)\n",
    "ax.legend((rects1[0], rects2[0]), ('Received SMS', 'Did not Receive SMS'))\n",
    "\n",
    "\n",
    "def autolabel(rects):\n",
    "    \"\"\"\n",
    "    Attach a text label above each bar displaying its height\n",
    "    \"\"\"\n",
    "    for rect in rects:\n",
    "        height = rect.get_height()\n",
    "        ax.text(rect.get_x() + rect.get_width()/2., 1.05*height,\n",
    "                '%.2f' % float(height),\n",
    "                ha='center', va='bottom')\n",
    "\n",
    "autolabel(rects1)\n",
    "autolabel(rects2)\n",
    "plt.show()"
   ]
  },
  {
   "cell_type": "markdown",
   "metadata": {},
   "source": [
    "> The above data shows that having received SMS actually increases the no-show proportion. By all standards this is highly unlikely unless we are not looking at the data from the right angle "
   ]
  },
  {
   "cell_type": "markdown",
   "metadata": {},
   "source": [
    "### Does Scholarship help in decreasing the amount of no-shows?"
   ]
  },
  {
   "cell_type": "code",
   "execution_count": 19,
   "metadata": {},
   "outputs": [
    {
     "data": {
      "text/plain": [
       "No     79925\n",
       "Yes    19741\n",
       "Name: No-show, dtype: int64"
      ]
     },
     "execution_count": 19,
     "metadata": {},
     "output_type": "execute_result"
    }
   ],
   "source": [
    "# first create a dataset of peple with no scholarship and then find the people with no shows from them\n",
    "df[df['Scholarship'] == 0]['No-show'].value_counts()"
   ]
  },
  {
   "cell_type": "code",
   "execution_count": 20,
   "metadata": {},
   "outputs": [
    {
     "data": {
      "text/plain": [
       "0.19807155900708365"
      ]
     },
     "execution_count": 20,
     "metadata": {},
     "output_type": "execute_result"
    }
   ],
   "source": [
    "# proportion of people who did not show up even though they had no scholarship/govt funding\n",
    "(df[df['Scholarship'] == 0]['No-show'] == \"Yes\").mean()"
   ]
  },
  {
   "cell_type": "code",
   "execution_count": 21,
   "metadata": {},
   "outputs": [
    {
     "data": {
      "text/plain": [
       "No     8283\n",
       "Yes    2578\n",
       "Name: No-show, dtype: int64"
      ]
     },
     "execution_count": 21,
     "metadata": {},
     "output_type": "execute_result"
    }
   ],
   "source": [
    "df[df['Scholarship'] == 1]['No-show'].value_counts()"
   ]
  },
  {
   "cell_type": "code",
   "execution_count": 22,
   "metadata": {},
   "outputs": [
    {
     "data": {
      "text/plain": [
       "0.23736304207715681"
      ]
     },
     "execution_count": 22,
     "metadata": {},
     "output_type": "execute_result"
    }
   ],
   "source": [
    "# proportion of people who did not show up and had govt scholarship\n",
    "(df[df['Scholarship'] == 1]['No-show'] == \"Yes\").mean()"
   ]
  },
  {
   "cell_type": "markdown",
   "metadata": {
    "collapsed": true
   },
   "source": [
    ">The mean number of people who showed up actually increased slightly when we segregated the data based on people having scholarship. This implies not having scholarship does seem to have some impact on peoples showing up on appointments. Having scholarship might be helping people to make appointments at which they do show up. Let us better visualise this data by using a pie chart. \n",
    "First lets find percentage of people in each of the sections - had scholarship or not and those that were a no-show or not among them\n"
   ]
  },
  {
   "cell_type": "code",
   "execution_count": 49,
   "metadata": {},
   "outputs": [],
   "source": [
    "#The column name No-show has a hyphen and hyphen or spaces do not work in colname for queries \n",
    "#thus creating a new column for this query with same data but a different name\n",
    "df['Noshow'] = df['No-show']\n",
    "Schol_Noshow = len(df.query('Scholarship ==1 & Noshow == \"Yes\"'))/len(df) *100\n",
    "NoSchol_Noshow = len(df.query('Scholarship ==0 & Noshow == \"Yes\"'))/len(df) *100\n",
    "Schol_show = len(df.query('Scholarship ==1 & Noshow == \"No\"'))/len(df) *100\n",
    "NoSchol_show = len(df.query('Scholarship ==0 & Noshow == \"No\"'))/len(df) *100"
   ]
  },
  {
   "cell_type": "markdown",
   "metadata": {},
   "source": [
    ">Now that we have all the required percentages let us draw a pie chart out of the data to visualise how it looks"
   ]
  },
  {
   "cell_type": "code",
   "execution_count": 51,
   "metadata": {},
   "outputs": [
    {
     "data": {
      "image/png": "[encoded data removed]",
      "text/plain": [
       "<matplotlib.figure.Figure at 0x25781528be0>"
      ]
     },
     "metadata": {},
     "output_type": "display_data"
    }
   ],
   "source": [
    "x_list = [Schol_Noshow,NoSchol_Noshow,Schol_show,NoSchol_show]\n",
    "label_list = [\"Scholarship and No-show\", \"No Scholarship and no-show\", \"Scholarship and showedup\", \"No scholarship and showed up\"]\n",
    "plt.axis(\"equal\")\n",
    "plt.pie(x_list,labels=label_list,autopct=\"%1.1f%%\")\n",
    "plt.title(\"Proportion of no-shows segregated by scholarship\")\n",
    "plt.show()"
   ]
  },
  {
   "cell_type": "markdown",
   "metadata": {},
   "source": [
    "> Pie chart does not seem to be a good chart for this visualization for these variables because it does not make clear whether scholarship helps or not."
   ]
  },
  {
   "cell_type": "markdown",
   "metadata": {},
   "source": [
    "### What is the effect of neighborhood on no-shows?"
   ]
  },
  {
   "cell_type": "code",
   "execution_count": 53,
   "metadata": {},
   "outputs": [],
   "source": [
    "neighbourhoodList = df['Neighbourhood'].unique()\n",
    "no_nbhd = len(neighbourhoodList)"
   ]
  },
  {
   "cell_type": "code",
   "execution_count": 54,
   "metadata": {},
   "outputs": [],
   "source": [
    "neighbourhoodratio = np.zeros((no_nbhd))\n",
    "for i in range(no_nbhd):\n",
    "   neighbourhoodratio[i]=(df.query('Neighbourhood == @neighbourhoodList[@i]')['No-show'] == \"Yes\").mean()"
   ]
  },
  {
   "cell_type": "markdown",
   "metadata": {},
   "source": [
    "> Above, we created a neighbourhood ratio for proportion of noshows in a list corrsponding to different neighbourhoods. Now let us try to visually see how these proportions compare with each other. SInce there is a lot of neighbourhoods, their names will not appear but thats ok since we can study the outleiers later"
   ]
  },
  {
   "cell_type": "code",
   "execution_count": 55,
   "metadata": {},
   "outputs": [
    {
     "data": {
      "image/png": "[encoded data removed]",
      "text/plain": [
       "<matplotlib.figure.Figure at 0x257814ada58>"
      ]
     },
     "metadata": {},
     "output_type": "display_data"
    },
    {
     "data": {
      "text/plain": [
       "array([ 0.16275471,  0.17080745,  0.17391304,  0.17125749,  0.19571429,\n",
       "        0.23032714,  0.18845701,  0.17756184,  0.19350474,  0.18295019,\n",
       "        0.22494172,  0.21037582,  0.15841584,  0.19771242,  0.22292324,\n",
       "        0.20261438,  0.19944406,  0.2194211 ,  0.19758849,  0.14712154,\n",
       "        0.19834115,  0.18984061,  0.20999139,  0.17975289,  0.18450185,\n",
       "        0.20446852,  0.19151194,  0.19164265,  0.20145631,  0.14555256,\n",
       "        0.17625637,  0.2013634 ,  0.22826087,  0.20786517,  0.26266363,\n",
       "        0.19110691,  0.21052632,  0.21648963,  0.17707663,  0.26482213,\n",
       "        0.21085783,  0.22319202,  0.22276029,  0.28918495,  0.23040936,\n",
       "        0.21985816,  0.2       ,  0.2259663 ,  0.18079888,  0.17223837,\n",
       "        0.18357488,  0.18589744,  0.16666667,  0.17990654,  0.19634703,\n",
       "        0.21513002,  0.19702602,  0.1831657 ,  0.21847507,  0.2212766 ,\n",
       "        0.2047532 ,  0.19469027,  0.24395373,  0.2042042 ,  0.21745351,\n",
       "        0.23477493,  0.21399549,  0.18064516,  0.27455357,  0.16568743,\n",
       "        0.15409836,  0.16489988,  0.15714286,  0.24      ,  0.19310345,\n",
       "        0.08571429,  0.18604651,  0.21481481,  0.125     ,  1.        ,  0.        ])"
      ]
     },
     "execution_count": 55,
     "metadata": {},
     "output_type": "execute_result"
    }
   ],
   "source": [
    "plt.bar(neighbourhoodList, neighbourhoodratio)\n",
    "plt.ylabel('No-show ratio')\n",
    "plt.xlabel('Different neighbourhoods')\n",
    "plt.title('No shows by neghbourhood')\n",
    " \n",
    "plt.show()\n",
    "neighbourhoodratio"
   ]
  },
  {
   "cell_type": "markdown",
   "metadata": {},
   "source": [
    ">As can be seen from the plot and the value of ratios, almost all of the neighbourhoods have similar ratios other than one neighbourhood which has all no-shows. We can further analyse to confirm how many datasets were in that neighbourhood. This could be because that neighbourhood had just one patient who did not show up but lets verify that in the next step."
   ]
  },
  {
   "cell_type": "code",
   "execution_count": 49,
   "metadata": {},
   "outputs": [
    {
     "name": "stdout",
     "output_type": "stream",
     "text": [
      "The PARQUE INDUSTRIAL has ratio 0 and number of patients1\n",
      "The ILHAS OCEÂNICAS DE TRINDADE has ratio 1 and number of patients 2\n"
     ]
    }
   ],
   "source": [
    "# let us find the name of neighbourhood corresponding to 0 and 1 ratio and then the corr. no of patients\n",
    "name0 = neighbourhoodList[len(neighbourhoodList)-1]\n",
    "name1 = neighbourhoodList[len(neighbourhoodList)-2]\n",
    "no_patient0 = len(df.query('Neighbourhood == @name0'))\n",
    "no_patient1 = len(df.query('Neighbourhood == @name1'))\n",
    "\n",
    "print('The {} has ratio 0 and number of patients{}'.format(name0, no_patient0))\n",
    "print('The {} has ratio 1 and number of patients {}'.format(name1, no_patient1))\n"
   ]
  },
  {
   "cell_type": "markdown",
   "metadata": {},
   "source": [
    ">Clearly the small number of patients is not a good dataset to compare the ratios esp for these 2 neighbourhoods"
   ]
  },
  {
   "cell_type": "markdown",
   "metadata": {},
   "source": [
    "### Do factors such as alcoholism affect the patient's show-up?\n",
    "> Let us find the proportion of no-shows based on whether they were alcoholic or not"
   ]
  },
  {
   "cell_type": "code",
   "execution_count": 50,
   "metadata": {},
   "outputs": [
    {
     "data": {
      "text/plain": [
       "No     2683\n",
       "Yes     677\n",
       "Name: No-show, dtype: int64"
      ]
     },
     "execution_count": 50,
     "metadata": {},
     "output_type": "execute_result"
    }
   ],
   "source": [
    "# Effect of alcoholism. segregate the data based on number of people who appear on visits even though alcoholic and calculate relevant mean\n",
    "df[df['Alcoholism'] == 1]['No-show'].value_counts()"
   ]
  },
  {
   "cell_type": "code",
   "execution_count": 51,
   "metadata": {},
   "outputs": [
    {
     "data": {
      "text/plain": [
       "No     85525\n",
       "Yes    21642\n",
       "Name: No-show, dtype: int64"
      ]
     },
     "execution_count": 51,
     "metadata": {},
     "output_type": "execute_result"
    }
   ],
   "source": [
    "# now do value count for people who are not alcoholic and show up at appointments\n",
    "df[df['Alcoholism'] == 0]['No-show'].value_counts()"
   ]
  },
  {
   "cell_type": "code",
   "execution_count": 52,
   "metadata": {},
   "outputs": [
    {
     "data": {
      "text/plain": [
       "0.20148809523809524"
      ]
     },
     "execution_count": 52,
     "metadata": {},
     "output_type": "execute_result"
    }
   ],
   "source": [
    "#calculate relevant proportions of no-shows and alcoholic\n",
    "(df[df['Alcoholism'] == 1]['No-show'] == \"Yes\").mean()"
   ]
  },
  {
   "cell_type": "code",
   "execution_count": 53,
   "metadata": {},
   "outputs": [
    {
     "data": {
      "text/plain": [
       "0.20194649472318904"
      ]
     },
     "execution_count": 53,
     "metadata": {},
     "output_type": "execute_result"
    }
   ],
   "source": [
    "#calculate relevant proportions of no-shows among non-alcoholic\n",
    "(df[df['Alcoholism'] == 0]['No-show'] == \"Yes\").mean()"
   ]
  },
  {
   "cell_type": "markdown",
   "metadata": {},
   "source": [
    ">From the above analysis on alcoholism, it seems that there is no significant impact of alcoholism on not showing up on appointments. this could be due to small number of people in the dataset on alcoholism too."
   ]
  },
  {
   "cell_type": "markdown",
   "metadata": {},
   "source": [
    "### Does the time since Appointment impact no-shows?"
   ]
  },
  {
   "cell_type": "code",
   "execution_count": 54,
   "metadata": {},
   "outputs": [
    {
     "data": {
      "text/plain": [
       "No     47337\n",
       "Yes    19409\n",
       "Name: No-show, dtype: int64"
      ]
     },
     "execution_count": 54,
     "metadata": {},
     "output_type": "execute_result"
    }
   ],
   "source": [
    "# caluclate number of people who did not show up when time since appointment taken was more than 1 day\n",
    "df.query('TimeSinceApptt > \"1 days\"')['No-show'].value_counts()"
   ]
  },
  {
   "cell_type": "code",
   "execution_count": 55,
   "metadata": {},
   "outputs": [
    {
     "data": {
      "text/plain": [
       "No     40871\n",
       "Yes     2910\n",
       "Name: No-show, dtype: int64"
      ]
     },
     "execution_count": 55,
     "metadata": {},
     "output_type": "execute_result"
    }
   ],
   "source": [
    "# caluclate number of people who did not show up when time since appointment taken was less than 1 day\n",
    "df.query('TimeSinceApptt <= \"1 days\"')['No-show'].value_counts()"
   ]
  },
  {
   "cell_type": "markdown",
   "metadata": {},
   "source": [
    "> The number of no-shows is significantly less when the appointment is made within a day. Let us look at the mean number of no-shows for both these cases"
   ]
  },
  {
   "cell_type": "code",
   "execution_count": 56,
   "metadata": {},
   "outputs": [
    {
     "data": {
      "text/plain": [
       "0.29078896113624786"
      ]
     },
     "execution_count": 56,
     "metadata": {},
     "output_type": "execute_result"
    }
   ],
   "source": [
    "# caluclate proportion of people who did not show up when time since appointment taken was more than 1 day\n",
    "(df.query('TimeSinceApptt > \"1 days\"')['No-show'] == \"Yes\").mean()"
   ]
  },
  {
   "cell_type": "code",
   "execution_count": 57,
   "metadata": {},
   "outputs": [
    {
     "data": {
      "text/plain": [
       "0.066467188963248894"
      ]
     },
     "execution_count": 57,
     "metadata": {},
     "output_type": "execute_result"
    }
   ],
   "source": [
    "# caluclate proportion of people who did not show up when time since appointment taken was less than 1 day\n",
    "(df.query('TimeSinceApptt <= \"1 days\"')['No-show'] == \"Yes\").mean()"
   ]
  },
  {
   "cell_type": "markdown",
   "metadata": {},
   "source": [
    "> From the above analysis, it is clear that people who make appointments well in advance are more likely to not show up on appointments. The next thing to analyse would be to see if this is related to them having received the sms or not. Things to think about would include maybe we can give a reminder call if having forgotten about the appointment is the reason"
   ]
  },
  {
   "cell_type": "code",
   "execution_count": null,
   "metadata": {},
   "outputs": [],
   "source": []
  },
  {
   "cell_type": "code",
   "execution_count": 58,
   "metadata": {},
   "outputs": [
    {
     "data": {
      "text/plain": [
       "0    75045\n",
       "1    35482\n",
       "Name: SMS_received, dtype: int64"
      ]
     },
     "execution_count": 58,
     "metadata": {},
     "output_type": "execute_result"
    }
   ],
   "source": [
    "df['SMS_received'].value_counts()"
   ]
  },
  {
   "cell_type": "markdown",
   "metadata": {},
   "source": [
    "Not a whole lot of patients have received an SMS. Let us explore more to understand if there is any correlation between people havign received SMS and no-shows"
   ]
  },
  {
   "cell_type": "code",
   "execution_count": 59,
   "metadata": {},
   "outputs": [
    {
     "data": {
      "text/plain": [
       "0.16703311346525418"
      ]
     },
     "execution_count": 59,
     "metadata": {},
     "output_type": "execute_result"
    }
   ],
   "source": [
    "# calculate proportion of people who had not received an SMS and were a no-show\n",
    "(df.query('SMS_received == 0')['No-show'] == \"Yes\").mean()"
   ]
  },
  {
   "cell_type": "code",
   "execution_count": 60,
   "metadata": {},
   "outputs": [
    {
     "data": {
      "text/plain": [
       "0.27574544839637"
      ]
     },
     "execution_count": 60,
     "metadata": {},
     "output_type": "execute_result"
    }
   ],
   "source": [
    "# calculate proportion of people who had received an SMS and were a no-show\n",
    "(df.query('SMS_received == 1')['No-show'] == \"Yes\").mean()"
   ]
  },
  {
   "cell_type": "markdown",
   "metadata": {},
   "source": [
    "> SMS having received taken individually does not seem to help decreasing the number of no-shows. Let us see it combined with time since appointment. Let us segregate the number of people who made an appointment more than a day ago and received an SMS and those that don't and calculate individual proportions of people who showed up among them."
   ]
  },
  {
   "cell_type": "code",
   "execution_count": 73,
   "metadata": {},
   "outputs": [
    {
     "name": "stdout",
     "output_type": "stream",
     "text": [
      "0.307862077789 0.0664671889632\n"
     ]
    }
   ],
   "source": [
    "# create a dataset of peopel with time since appointment greater than 1 day since we saw they are more likely to not show up and those that have received an SMS\n",
    "NoRecSMS_Great= (df.query('SMS_received == 0 & TimeSinceApptt > \"1 days\"')['No-show'] == \"Yes\").mean()\n",
    "\n",
    "# create a dataset of peopel with time since appointmentless than 1 day since we saw they are more likely to not show up and those that have received an SMS\n",
    "NoRecSMS_Less= (df.query('SMS_received == 0 & TimeSinceApptt <= \"1 days\"')['No-show'] == \"Yes\").mean()\n",
    "\n",
    "print (NoRecSMS_Great, NoRecSMS_Less)"
   ]
  },
  {
   "cell_type": "code",
   "execution_count": 75,
   "metadata": {},
   "outputs": [
    {
     "name": "stdout",
     "output_type": "stream",
     "text": [
      "0.275745448396 nan\n"
     ]
    }
   ],
   "source": [
    "# now calculate proportion of people with longer time since appointment and having received SMS and calculate proportion of noshows\n",
    "RecSMS_Great=(df.query('SMS_received == 1 & TimeSinceApptt > \"1 days\"')['No-show'] == \"Yes\").mean()\n",
    "\n",
    "# now calculate proportion of people with lesser time since appointment and having received SMS and calculate proportion of noshows\n",
    "RecSMS_Less=(df.query('SMS_received == 1 & TimeSinceApptt <= \"1 day\"')['No-show'] == \"Yes\").mean()\n",
    "\n",
    "print (RecSMS_Great,RecSMS_Less)\n"
   ]
  },
  {
   "cell_type": "markdown",
   "metadata": {},
   "source": [
    "> Above results indicate that there is no data with people who have received the SMS for appointment reminder if time since appointment is less than 1 day. Perhaps the system send SMS to remind not at the time of booking but the dataset does not make that clear"
   ]
  },
  {
   "cell_type": "markdown",
   "metadata": {},
   "source": [
    "> Having received an SMS seems to slightly increase the chance of showing up for people who have taken an appointment more than a day before the actual appointment day. We should definitely consider sending more frequent reminder since it seems reminding might help decrease the no shows. Let us draw this as a grouped/nested bar plot."
   ]
  },
  {
   "cell_type": "code",
   "execution_count": 79,
   "metadata": {},
   "outputs": [
    {
     "data": {
      "image/png": "[encoded data removed]",
      "text/plain": [
       "<matplotlib.figure.Figure at 0x2957ed72b38>"
      ]
     },
     "metadata": {},
     "output_type": "display_data"
    }
   ],
   "source": [
    "\"\"\"\n",
    "========\n",
    "Barchart\n",
    "========\n",
    "\n",
    "A bar plot\n",
    "\"\"\"\n",
    "\n",
    "N = 2\n",
    "# array for people who did receive SMS for both the chunks time since appointment greater than 1 day and less than 1 day\n",
    "RecSMS = (RecSMS_Great, RecSMS_Less)\n",
    "\n",
    "ind = np.arange(N)  # the x locations for the groups\n",
    "width = 0.25      # the width of the bars\n",
    "\n",
    "fig, ax = plt.subplots()\n",
    "rects1 = ax.bar(ind, RecSMS, width, color='r')\n",
    "\n",
    "# array for people who did not receive SMS for both the chunks time since appointment greater than 1 day and less than 1 day\n",
    "NoRecSMS = (NoRecSMS_Great, NoRecSMS_Less)\n",
    "rects2 = ax.bar(ind + width, NoRecSMS, width, color='y')\n",
    "\n",
    "# add some text for labels, title and axes ticks\n",
    "ax.set_ylabel('No-show proportion')\n",
    "ax.set_title('No-show proportion by time since appointment and having received SMS or not')\n",
    "ax.set_xticks(ind + width / 2)\n",
    "ax.set_xticklabels(('Time > 1day', 'Time <=1 day'))\n",
    "\n",
    "ax.legend((rects1[0], rects2[0]), ('Received SMS', 'Did not Receive SMS'))\n",
    "plt.show()"
   ]
  },
  {
   "cell_type": "markdown",
   "metadata": {},
   "source": [
    "> The above chart shows two important things. Proportion of no-shows is much less if people took appointment less than a day ago. For people who took appointment longer than a day back, no-show proportion is less ofr people who received SMS. So receiving an SMS overall does help. It does not show the proportion of people who received SMS and who took appointment less than a day ago. If we analyze this further, we will realize that the issue with the above chart is becuase no-one with an appointment less than 1 day will receive an SMS. This was not clear in the dataset but a query to find people who received SMS whose appointment was scheduled less than a day ago gives null value"
   ]
  },
  {
   "cell_type": "markdown",
   "metadata": {},
   "source": [
    "<a id='conclusions'></a>\n",
    "## Conclusions\n",
    "\n",
    "> The above data suggests that the following factors are really important for patients to show up at the appointments:\n",
    "1 Time since appointment definitely is an important factor when it comes to showing up for an appoitnment. A person who makes an appoitnment within a day of appointment is more likely to come to the appointment.\n",
    "2 Receiving an SMS reminder does helps to slightly increase the chance of a person showing up at the appointment. \n",
    "3 Being registered with a welfare program, scholarship seems to help in showing up. Maybe, affordability is an issue for people who do not show up but not enough data is avaialbel to analyse this further, If we had data on income of people we could analyse it further.\n",
    "Data suggests that gender, alcoholism and neighbourhood do not impact the no-shows\n",
    "Data does not tell when the SMS was received and if there are ways to increase the SMS receival rate. More data on such information will help us conclude better on what can be done to incraese the patients that show up at the appointments. \n"
   ]
  },
  {
   "cell_type": "code",
   "execution_count": null,
   "metadata": {
    "collapsed": true
   },
   "outputs": [],
   "source": []
  },
  {
   "cell_type": "code",
   "execution_count": null,
   "metadata": {
    "collapsed": true
   },
   "outputs": [],
   "source": []
  },
  {
   "cell_type": "code",
   "execution_count": null,
   "metadata": {
    "collapsed": true
   },
   "outputs": [],
   "source": []
  }
 ],
 "metadata": {
  "kernelspec": {
   "display_name": "Python 3",
   "language": "python",
   "name": "python3"
  },
  "language_info": {
   "codemirror_mode": {
    "name": "ipython",
    "version": 3
   },
   "file_extension": ".py",
   "mimetype": "text/x-python",
   "name": "python",
   "nbconvert_exporter": "python",
   "pygments_lexer": "ipython3",
   "version": "3.6.3"
  }
 },
 "nbformat": 4,
 "nbformat_minor": 2
}
